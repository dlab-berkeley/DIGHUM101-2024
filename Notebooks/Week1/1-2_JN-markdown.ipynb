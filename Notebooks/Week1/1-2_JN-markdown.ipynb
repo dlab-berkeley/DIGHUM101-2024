{
 "cells": [
  {
   "cell_type": "markdown",
   "metadata": {},
   "source": [
    "<center><b>DIGHUM101</b></center>\n",
    "<center>1-2: Markdown in Jupyter Notebooks</center>\n",
    "\n",
    "---"
   ]
  },
  {
   "cell_type": "markdown",
   "metadata": {},
   "source": [
    "# Learning objectives\n",
    "\n",
    "1. Navigate Jupyter Notebooks\n",
    "2. Understand code and markdown cells"
   ]
  },
  {
   "cell_type": "markdown",
   "metadata": {},
   "source": [
    "# Python and Jupyter Notebooks\n",
    "\n",
    "The most common way to run Python is in a Jupyter Notebook. Here, we can alternate between 1) code or 2) markdown cells. Code is the vehicle we use to make our ideas \"go\", via the \"kernel\" (the computational engine that runs the code). Markdown is the roadmap we use to organize our work and research narrative. This text is essential to introduce the reader/audience to the problem or topic being investigated, our research question/hypothesis, materials and methods, results, discussion, and conclusions. \n",
    "\n",
    "Jupyter Notebooks can be exported into vibrant and interactive slideshows and .html and .pdf files for presentation. \n",
    "\n",
    "[Click here to check out the Jupyter Notebooks beginner guide](https://jupyter-notebook.readthedocs.io/en/stable/examples/Notebook/What%20is%20the%20Jupyter%20Notebook.html)\n",
    "\n",
    "### Run a cell\n",
    "\n",
    "Press **Shift + enter** to render a cell of markdown or a cell of code and advance to the next cell.\n",
    "\n",
    "Press **control + enter** to run the cell but do not advance to the next cell."
   ]
  },
  {
   "cell_type": "code",
   "execution_count": null,
   "metadata": {},
   "outputs": [],
   "source": []
  },
  {
   "cell_type": "code",
   "execution_count": null,
   "metadata": {},
   "outputs": [],
   "source": [
    "a = 3\n",
    "b = 2\n"
   ]
  },
  {
   "cell_type": "code",
   "execution_count": 6,
   "metadata": {},
   "outputs": [
    {
     "ename": "SyntaxError",
     "evalue": "invalid syntax (3018016017.py, line 1)",
     "output_type": "error",
     "traceback": [
      "\u001b[0;36m  Cell \u001b[0;32mIn[6], line 1\u001b[0;36m\u001b[0m\n\u001b[0;31m    hello class, todayi is the first day and it might be confusing but we will slowly learn everything\u001b[0m\n\u001b[0m          ^\u001b[0m\n\u001b[0;31mSyntaxError\u001b[0m\u001b[0;31m:\u001b[0m invalid syntax\n"
     ]
    }
   ],
   "source": [
    "hello class, todayi is the first day and it might be confusing but we will slowly learn everything"
   ]
  },
  {
   "cell_type": "markdown",
   "metadata": {},
   "source": [
    "# Useful keyboard shortcuts\n",
    "\n",
    "Double-click on a cell then:\n",
    "\n",
    "esc = \"command mode\" <font color=\"blue\">(blue cell border);</font> remove your cursor from the cell (or, click in the left margin)  \n",
    "enter = \"edit mode\" <font color=\"green\">(green cell border);</font> put your cursor back into the cell (or, click inside the cell)\n",
    "\n",
    "*Note: cell borders don't change color in Jupyter Labs, only in Jupyter Notebooks.*\n",
    "\n",
    "**Do the below shortcuts work in command or edit mode?**\n",
    "\n",
    "a = Add cell above  \n",
    "b = Add cell below  \n",
    "dd = delete cell (also click Edit --> Undo Delete Cells if needed)\n",
    "\n",
    "m = Convert cell to Markdown  \n",
    "y = Convert cell to Code  \n",
    "\n",
    "\n",
    "Shift + l = turn on line numbers for all cells  \n",
    "control + Shift + minus = split cell\n",
    "\n",
    "Shift + m = merge highlighted cells. \n",
    "(To select multiple cells in a Jupyter Notebook, you would follow these steps:\n",
    "Click on the cell you want to start the selection from to make it active.\n",
    "Hold down the Shift key.\n",
    "While holding down the Shift key, use the up or down arrow keys on your keyboard to extend the selection to other cells. Remember that you need to be in command mode (blue cell border) for this to work. If you're in edit mode (green cell border), press esc to switch to command mode.)\n",
    "\n"
   ]
  },
  {
   "cell_type": "markdown",
   "metadata": {},
   "source": [
    "# Markdown versus Code\n",
    "\n",
    "Double-click a cell to edit it, then remember to press **Shift + Enter** to render it. New cells are Code cells by default. In addition to the y and m command-mode shortcuts, you can select between Markdown and Code from the dropdown menu at the top of your notebook. \n",
    "\n",
    "### Markdown cells\n",
    "\n",
    "This cell is [Markdown](https://www.markdownguide.org/getting-started/). It allows you to create the narrative around your work in addition to adding: \n",
    "\n",
    "- lists\n",
    "- hyperlinks\n",
    "- images\n",
    "- etc."
   ]
  },
  {
   "cell_type": "markdown",
   "metadata": {},
   "source": [
    "# Markdown\n",
    "\n",
    "While you will use code to import and manipulate data and files, you will use markdown to build the discussion around your code cells. \n",
    "\n",
    "[View the markdown cheatsheet](https://github.com/adam-p/markdown-here/wiki/Markdown-Cheatsheet) to see more tips for using markdown.  "
   ]
  },
  {
   "cell_type": "markdown",
   "metadata": {},
   "source": [
    "****\n",
    "Four asterisks will produce a line seperator. \n",
    "****\n",
    "\n",
    "*   Use asterisks\n",
    "*   to create\n",
    "*   bullet lists.\n",
    "\n",
    "but\n",
    "\n",
    "1.  Use numbers\n",
    "2.  to create\n",
    "3.  numbered lists.\n",
    "\n",
    "Use backticks to highlight code like `TfidfVectorizer()`\n",
    "\n",
    "# A Level-1 Heading\n",
    "## B Level-2 Heading\n",
    "### C Level-3 Heading (etc)\n",
    "#### Puppy\n",
    "\n",
    "Line breaks\n",
    "don't matter.\n",
    "\n",
    "But blank lines\n",
    "\n",
    "create new paragraphs.\n",
    "\n",
    "[Create hyperlinks](https://www.berkeley.edu/) with `[hyperlinked text](URL)`.\n",
    "\n",
    "[Please click here](https://www.google.com/search?q=puppies&source=lnms&tbm=isch&sa=X&ved=0ahUKEwi_lcTu0rziAhWBlp4KHf-yCN4Q_AUIDigB&biw=1440&bih=717) for puppies! \n",
    "\n",
    "****"
   ]
  },
  {
   "cell_type": "markdown",
   "metadata": {},
   "source": [
    "![Birds](../../Img/Cedar_Waxwing.jpeg)"
   ]
  },
  {
   "cell_type": "markdown",
   "metadata": {},
   "source": [
    "Save any changes you made and open notebook \"1-3_JN-code.ipynb\" to learn about code."
   ]
  },
  {
   "cell_type": "code",
   "execution_count": null,
   "metadata": {},
   "outputs": [],
   "source": []
  }
 ],
 "metadata": {
  "kernelspec": {
   "display_name": "Python 3 (ipykernel)",
   "language": "python",
   "name": "python3"
  },
  "language_info": {
   "codemirror_mode": {
    "name": "ipython",
    "version": 3
   },
   "file_extension": ".py",
   "mimetype": "text/x-python",
   "name": "python",
   "nbconvert_exporter": "python",
   "pygments_lexer": "ipython3",
   "version": "3.11.7"
  }
 },
 "nbformat": 4,
 "nbformat_minor": 4
}
